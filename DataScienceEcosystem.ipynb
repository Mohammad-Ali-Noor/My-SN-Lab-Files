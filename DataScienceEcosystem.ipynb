{
 "cells": [
  {
   "cell_type": "markdown",
   "id": "8dda2016",
   "metadata": {},
   "source": [
    "Exercise - 1: Create a Jupyter Notebook "
   ]
  },
  {
   "cell_type": "markdown",
   "id": "b8f585ed",
   "metadata": {},
   "source": [
    "Exercise - 2: Create Markdown cell with title of the notebook"
   ]
  },
  {
   "cell_type": "markdown",
   "id": "7dfb77a2",
   "metadata": {},
   "source": [
    "# Data Science Tools and Ecosystem"
   ]
  },
  {
   "cell_type": "markdown",
   "id": "59435057",
   "metadata": {},
   "source": [
    "Exercise - 3: Create Markdown cell for an introduction."
   ]
  },
  {
   "cell_type": "markdown",
   "id": "95e3a66c",
   "metadata": {},
   "source": [
    "Exercise - 10: Create Markdown cell to list Objectives."
   ]
  },
  {
   "cell_type": "markdown",
   "id": "2cd33244",
   "metadata": {},
   "source": [
    "__Objectives:__    \n",
    "* This notebook is on what tools are used by Data Scientists.\n",
    "* Which libraries are used in Data Science.\n",
    "* Languages of Data Science."
   ]
  },
  {
   "cell_type": "markdown",
   "id": "66210cfe",
   "metadata": {},
   "source": [
    "In this notebook, Data Science Tools and Ecosystem are summerized. "
   ]
  },
  {
   "cell_type": "markdown",
   "id": "e134e69d",
   "metadata": {},
   "source": [
    "Exercise - 4: Create a Markdown cell to list data science languages."
   ]
  },
  {
   "cell_type": "markdown",
   "id": "9edb3d5b",
   "metadata": {},
   "source": [
    "A list of Data Science Languages:\n",
    "1. Python\n",
    "2. R\n",
    "3. SQL\n",
    "4. Java\n",
    "5. Scala\n",
    "6. Julia"
   ]
  },
  {
   "cell_type": "markdown",
   "id": "c0d3e86f",
   "metadata": {},
   "source": [
    "Exercise - 5: Create a Markdown cell to list data science libraries."
   ]
  },
  {
   "cell_type": "markdown",
   "id": "f6eca892",
   "metadata": {},
   "source": [
    "Some of the commonly used by Data Scientists include:\n",
    "1. Numpy\n",
    "2. pandas\n",
    "3. scipi\n",
    "4. ggplot2\n",
    "5. plotly\n",
    "6. seaborn\n"
   ]
  },
  {
   "cell_type": "markdown",
   "id": "1cd0678e",
   "metadata": {},
   "source": [
    "Exercise - 6: Create a Markdown cell with a table of Data Science Tools."
   ]
  },
  {
   "cell_type": "markdown",
   "id": "e8b5d056",
   "metadata": {},
   "source": [
    "|Data Science Tools|\n",
    "|------------------|\n",
    "|Jupyter Notebook|\n",
    "|Rstudio|\n",
    "|Zeppelin|"
   ]
  },
  {
   "cell_type": "markdown",
   "id": "5e94fd94",
   "metadata": {},
   "source": [
    "Exercise - 7: Create a Markdown cell introducing arithmetic expression examples "
   ]
  },
  {
   "cell_type": "markdown",
   "id": "77862128",
   "metadata": {},
   "source": [
    "### Below are a few examples of evaluating arithmetic expressions in Python."
   ]
  },
  {
   "cell_type": "markdown",
   "id": "2d6159b9",
   "metadata": {},
   "source": [
    "Exercise - 8: Create a Code cell to muliply and add numbers."
   ]
  },
  {
   "cell_type": "code",
   "execution_count": 1,
   "id": "9ff796df",
   "metadata": {},
   "outputs": [
    {
     "data": {
      "text/plain": [
       "17"
      ]
     },
     "execution_count": 1,
     "metadata": {},
     "output_type": "execute_result"
    }
   ],
   "source": [
    "# This is a simple arithmetic expression to multiply then add integers.\n",
    "(3*4)+5 "
   ]
  },
  {
   "cell_type": "markdown",
   "id": "efa2d301",
   "metadata": {},
   "source": [
    "Exercise - 9: Create a Code cell to convert minutes to hours."
   ]
  },
  {
   "cell_type": "code",
   "execution_count": 5,
   "id": "ce62de31",
   "metadata": {},
   "outputs": [
    {
     "data": {
      "text/plain": [
       "3.3333333333333335"
      ]
     },
     "execution_count": 5,
     "metadata": {},
     "output_type": "execute_result"
    }
   ],
   "source": [
    "# This will convert 200 minutes to hours by dividing by 60.\n",
    "minutes = 200\n",
    "hours = minutes/60\n",
    "hours"
   ]
  },
  {
   "cell_type": "markdown",
   "id": "ab2bedb8",
   "metadata": {},
   "source": [
    "Exercise - 11: Create a markdown cell to indicate the Author's name."
   ]
  },
  {
   "cell_type": "markdown",
   "id": "3f48642a",
   "metadata": {},
   "source": [
    "## Author\n",
    "Mohammad Ali Noor"
   ]
  },
  {
   "cell_type": "code",
   "execution_count": null,
   "id": "facc172c",
   "metadata": {},
   "outputs": [],
   "source": []
  }
 ],
 "metadata": {
  "kernelspec": {
   "display_name": "Python 3 (ipykernel)",
   "language": "python",
   "name": "python3"
  },
  "language_info": {
   "codemirror_mode": {
    "name": "ipython",
    "version": 3
   },
   "file_extension": ".py",
   "mimetype": "text/x-python",
   "name": "python",
   "nbconvert_exporter": "python",
   "pygments_lexer": "ipython3",
   "version": "3.11.5"
  }
 },
 "nbformat": 4,
 "nbformat_minor": 5
}
